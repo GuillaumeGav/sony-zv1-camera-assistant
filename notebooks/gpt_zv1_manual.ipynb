{
 "cells": [
  {
   "cell_type": "markdown",
   "id": "007fa6b7",
   "metadata": {},
   "source": [
    "# Sony ZV1 camera assistant\n",
    "\n",
    "### The Project\n",
    "\n",
    "Creating a Chatbot that will assist you to get a grasp on a sony camera ZV1. In a way that it will answer your questions like \"how to shoot in slow motion?\", \"How to set the black and white balance\" ... so on so forth by reading the manual\n",
    "\n",
    "The chatbot should :\n",
    "* Accepts natural language questions about the Sony ZV-1.\n",
    "* Returns relevant answers based solely on the official manual.\n",
    "* Works offline or via a simple web app (optional).\n",
    "* Is open-source and uses only free tech.\n",
    "\n",
    "### 🧠 Project Workflow: Build a Manual-Based Q&A Assistant\n",
    "\n",
    " 🗂️ 1. Extract Manual Content\n",
    "- Download the PDF manual.\n",
    "- Use **PyMuPDF** to extract clean text by section.\n",
    "- Optionally add structure: title, section headers, etc.\n",
    "\n",
    "🧩 2. Split & Embed\n",
    "- Chunk the manual into coherent paragraphs using **LangChain’s `RecursiveCharacterTextSplitter`**.\n",
    "- Generate embeddings with **SentenceTransformers**.\n",
    "\n",
    "📚 3. Create Vector Store\n",
    "- Store the chunks and their embeddings using **FAISS**.\n",
    "\n",
    "🧠 4. Ask Questions\n",
    "- User types a question.\n",
    "- Perform **semantic search** on FAISS to retrieve relevant chunks.\n",
    "- Feed these chunks + the question into an open-source LLM using a custom prompt:  \n",
    "  *\"Based on the following manual section, answer this question: [...]\"*"
   ]
  },
  {
   "cell_type": "markdown",
   "id": "d4daa738",
   "metadata": {},
   "source": [
    "### Technologies used (Free & Open-Source Stack)\n",
    "\n",
    "| Purpose                     | Tool/Tech                                                                 |\n",
    "|----------------------------|---------------------------------------------------------------------------|\n",
    "| Text extraction from PDF   | PyMuPDF or pdfminer.six                                                  |\n",
    "| Chunking + Embedding       | LangChain + SentenceTransformers (e.g. all-MiniLM-L6-v2)                 |\n",
    "| Vector DB (search)         | FAISS (lightweight and local)                                            |\n",
    "| LLM (to generate answers)  | llama.cpp or mistral-7b via Ollama (local) or OpenRouter (API access)    |"
   ]
  },
  {
   "cell_type": "code",
   "execution_count": 1,
   "id": "def739aa",
   "metadata": {},
   "outputs": [
    {
     "name": "stdout",
     "output_type": "stream",
     "text": [
      "Available kernels:\r\n",
      "  zv1-bot    /Users/guillaumegavillet/Library/Jupyter/kernels/zv1-bot\r\n",
      "  python3    /Users/guillaumegavillet/.pyenv/versions/3.10.6/envs/lewagon/share/jupyter/kernels/python3\r\n"
     ]
    }
   ],
   "source": [
    "! jupyter kernelspec list"
   ]
  },
  {
   "cell_type": "code",
   "execution_count": 2,
   "id": "dfdd226e",
   "metadata": {
    "scrolled": true
   },
   "outputs": [
    {
     "name": "stdout",
     "output_type": "stream",
     "text": [
      "Couldn't find kernel spec(s): zmv1\r\n"
     ]
    }
   ],
   "source": [
    "!jupyter kernelspec uninstall zmv1"
   ]
  },
  {
   "cell_type": "code",
   "execution_count": 3,
   "id": "9271ff3f",
   "metadata": {},
   "outputs": [
    {
     "name": "stdout",
     "output_type": "stream",
     "text": [
      "zsh:1: command not found: y\r\n"
     ]
    }
   ],
   "source": [
    "!y\n"
   ]
  },
  {
   "cell_type": "markdown",
   "id": "2b80ccfe",
   "metadata": {},
   "source": [
    "## Extracting the text from the pdf manual"
   ]
  },
  {
   "cell_type": "markdown",
   "id": "199f9c9b",
   "metadata": {},
   "source": [
    "### Saving the text of the manual to a txt file"
   ]
  },
  {
   "cell_type": "code",
   "execution_count": 4,
   "id": "4e7eb939",
   "metadata": {
    "scrolled": false
   },
   "outputs": [],
   "source": [
    "import fitz  # PyMuPDF\n",
    "import os\n",
    "import json\n",
    "import re\n",
    "import faiss\n",
    "import numpy as np\n",
    "import requests\n",
    "from sentence_transformers import SentenceTransformer\n",
    "from tqdm import tqdm"
   ]
  },
  {
   "cell_type": "code",
   "execution_count": 5,
   "id": "825a7b23",
   "metadata": {},
   "outputs": [
    {
     "name": "stdout",
     "output_type": "stream",
     "text": [
      "/Users/guillaumegavillet/.pyenv/versions/lewagon/bin/python\r\n"
     ]
    }
   ],
   "source": [
    "!which python"
   ]
  },
  {
   "cell_type": "code",
   "execution_count": 6,
   "id": "878bf5e4",
   "metadata": {},
   "outputs": [
    {
     "name": "stdout",
     "output_type": "stream",
     "text": [
      "✅ Text saved to: sony_zv1_text.txt\n"
     ]
    }
   ],
   "source": [
    "\n",
    "\n",
    "def extract_text_from_pdf(pdf_path, output_txt_path=None):\n",
    "    \"\"\"\n",
    "    Extracts text from a PDF file using PyMuPDF.\n",
    "    \n",
    "    Args:\n",
    "        pdf_path (str): Path to the PDF file.\n",
    "        output_txt_path (str): Optional path to save the extracted text as a .txt file.\n",
    "    \n",
    "    Returns:\n",
    "        str: Full extracted text.\n",
    "    \"\"\"\n",
    "    doc = fitz.open(pdf_path)\n",
    "    full_text = \"\"\n",
    "\n",
    "    for page_num, page in enumerate(doc):\n",
    "        text = page.get_text()\n",
    "        full_text += f\"\\n--- Page {page_num + 1} ---\\n{text}\"\n",
    "\n",
    "    if output_txt_path:\n",
    "        with open(output_txt_path, 'w', encoding='utf-8') as f:\n",
    "            f.write(full_text)\n",
    "        print(f\"✅ Text saved to: {output_txt_path}\")\n",
    "    \n",
    "    return full_text\n",
    "\n",
    "# Example usage:\n",
    "if __name__ == \"__main__\":\n",
    "    pdf_path = \"data/zv1_manual.pdf\"  # file path\n",
    "    extract_text_from_pdf(pdf_path, output_txt_path=\"sony_zv1_text.txt\")\n"
   ]
  },
  {
   "cell_type": "markdown",
   "id": "bb7fb19e",
   "metadata": {},
   "source": [
    "checking the first 1000 characters of the text, to see if it went well"
   ]
  },
  {
   "cell_type": "code",
   "execution_count": 7,
   "id": "8690f9e4",
   "metadata": {},
   "outputs": [
    {
     "name": "stdout",
     "output_type": "stream",
     "text": [
      "y dealer or local authorized Sony service facility.\n",
      "14.\n",
      "HDMI micro jack\n",
      "15.\n",
      "Wi-Fi/Bluetooth antenna (built-in)\n",
      "16.\n",
      "For shooting: Fn (Function) button  \n",
      "For viewing: \n",
      " (Send to Smartphone) button\n",
      "17.\n",
      "MENU button\n",
      "18.\n",
      "20\n",
      "\n",
      "--- Page 21 ---\n",
      "Using the wind screen (supplied)\n",
      "Use the wind screen to reduce wind noise picked up by the internal microphone when recording a movie.\n",
      "Remove the shoe cap from the camera, and then attach the wind screen to the Multi Interface Shoe.\n",
      "Note\n",
      "When attaching the wind screen, make sure that the wind screen does not get caught in the Multi Interface Shoe.\n",
      "Be careful not to lose the shoe cap when you remove it from the camera.\n",
      "5-016-934-12(1) Copyright 2020 Sony Corporation\n",
      "Control wheel\n",
      "19.\n",
      "Center button\n",
      "20.\n",
      " (Playback) button\n",
      "21.\n",
      "C2/\n",
      " (Custom button 2/Delete) button\n",
      "22.\n",
      "Hook for strap\n",
      "23.\n",
      "Battery insertion slot\n",
      "24.\n",
      "Battery lock lever\n",
      "25.\n",
      "Access lamp\n",
      "26.\n",
      "Memory card slot\n",
      "27.\n",
      "Tripod socket hole \n",
      "Supports 1/4-20 UNC screws\n",
      "Use a tripod with a screw less than 5.5 mm (7/32 inches) long. Otherwise, you cannot firmly secure the camera,\n",
      "and damage to the camera may occur.\n",
      "28.\n",
      "Battery/Memory card cover\n",
      "29.\n",
      "Speaker\n",
      "30.\n",
      "21\n",
      "\n",
      "--- Page 22 ---\n",
      "Help Guide\n",
      "Digital Camera\n",
      "ZV-1\n",
      "Using the control wheel\n",
      "You can select setting items by turning or pressing the top/bottom/left/right side of the control wheel. Your selection is\n",
      "determined when you press the center of the control wheel.\n",
      "The DISP (Display Setting), \n",
      " (Exposure Comp.), and \n",
      "/\n",
      " (Drive Mode) functions are assigned to the\n",
      "top/bottom/left side of the control wheel. In addition, you can assign selected functions to the left/right side and the\n",
      "center of the control wheel.\n",
      "During playback, you can display the next/previous image by pressing the right/left side of the control wheel or by\n",
      "turning the control wheel.\n",
      "Related Topic\n",
      "Assigning frequently used functions to buttons (Custom Key)\n",
      "5-016-934-12(1) Copyright 2020 Sony Corporation\n",
      "22\n",
      "\n",
      "--- Page 23 ---\n",
      "Help Guide\n",
      "Digital Camera\n",
      "ZV-1\n",
      "Using MENU items\n",
      "You can change settings related to all the camera operations including shooting, playback, and operating method. You\n",
      "can also execute camera functions from the MENU.\n",
      "Related Topic\n",
      "Tile Menu\n",
      "Add Item\n",
      "Display From My Menu\n",
      "5-016-934-12(1) Copyright 2020 Sony Corporation\n",
      "Press the MENU button to display the menu screen.\n",
      "1\n",
      "Select the desired setting you want to adjust using the top/bottom/left/right sides of the control wheel or by\n",
      "turning the control wheel, and then press the center of the control wheel.\n",
      "Select a MENU tab (A) at the top of the screen, and press the left/right side of the control wheel to move to\n",
      "another MENU tab.\n",
      "You can move to the next MENU tab by pressing the Fn button.\n",
      "You can go back to the previous screen by pressing the MENU button.\n",
      "2\n",
      "Select the desired setting value, and press the center to confirm your selection.\n",
      "3\n",
      "23\n",
      "\n",
      "--- Page 24 ---\n",
      "24\n",
      "\n",
      "--- Page 25 ---\n",
      "Help Guide\n",
      "Digital Camera\n",
      "ZV-1\n",
      "Assigning frequently used functions to buttons (Custom Key)\n",
      "You can use the custom key function to assign the functions you use most frequently to easily operable keys. This lets\n",
      "you skip the process of selecting items from MENU, so you can recall the functions more quickly. You can also assign\n",
      "[Not set] to easily operable keys to prevent accidental operation.\n",
      "You can separately assign functions to custom keys for the still image shooting mode (\n",
      "Custom Key), movie shooting\n",
      "mode (\n",
      "Custom Key), and playback mode (\n",
      "Custom Key).\n",
      "Assignable functions vary depending on the keys.\n",
      "You can assign functions to the following keys.\n",
      "Hint\n",
      "You can recall functions more quickly by using the Function menu to configure each setting directly from the Fn button, along with\n",
      "the custom keys. Refer to the related functions under “Related Topic” at the bottom of this page.\n",
      "The following is the procedure for assigning the [Eye AF] function to the C2 button.\n",
      "Custom Button 1\n",
      "1.\n",
      "Fn/\n",
      "Button\n",
      "2.\n",
      "Center Button /Left Button/Right Button\n",
      "3.\n",
      "Custom Button 2\n",
      "4.\n",
      "MENU → \n",
      " (Camera Settings2) → [\n",
      "Custom Key].\n",
      "If you want to assign a function to recall while shooting movies, select [\n",
      "Custom Key]. If you want to assign\n",
      "a function to recall while playing back images, select [\n",
      "Custom Key].\n",
      "1\n",
      "Move to the [Rear] screen using the left/right side of the control wheel. Then, select [Custom Button 2] and\n",
      "press the center of the control wheel.\n",
      "2\n",
      "Press the left/right side of the control wheel until [Eye AF] is displayed. Select [Eye AF], and then press the\n",
      "center.\n",
      "3\n",
      "25\n",
      "\n",
      "--- Page 26 ---\n",
      "Note\n",
      "If you assign [Follow Custom (\n",
      ")] to a custom key using [\n",
      "Custom Key], but the function is one that is unavailable in the\n",
      "movie shooting mode such as [\n",
      "JPEG Quality] or [Flash Mode], the function will not be recalled when you press the key in the\n",
      "movie shooting mode.\n",
      "If you assign [Follow Custom (\n",
      "/\n",
      ")] to a custom key using [\n",
      "Custom Key], the camera will switch to the shooting mode\n",
      "and recall the assigned function when you press the key in the playback mode.\n",
      "Related Topic\n",
      "Using Fn (Function) button (Function menu)\n",
      "5-01\n"
     ]
    }
   ],
   "source": [
    "with open(\"sony_zv1_text.txt\", \"r\", encoding=\"utf-8\") as f:\n",
    "    content = f.read()\n",
    "    print(content[15000:20000])\n",
    "\n"
   ]
  },
  {
   "cell_type": "markdown",
   "id": "3d04dc18",
   "metadata": {},
   "source": [
    "## Chunking the manual for segmental search "
   ]
  },
  {
   "cell_type": "markdown",
   "id": "1e95124d",
   "metadata": {},
   "source": [
    "### Why chunking\n",
    "we chunk the text (divide it in smaller section) because llm can't handle everything at once Most have context length limits, and even outside of that, searching smaller pieces of information gives better results."
   ]
  },
  {
   "cell_type": "code",
   "execution_count": 8,
   "id": "cd783034",
   "metadata": {},
   "outputs": [],
   "source": [
    "def split_text_into_chunks(text, chunk_size=700, overlap=150):\n",
    "    \"\"\"\n",
    "    Splits the input text into overlapping chunks.\n",
    "    \"\"\"\n",
    "    chunks = []\n",
    "    start = 0\n",
    "    while start < len(text):\n",
    "        end = start + chunk_size\n",
    "        chunk = text[start:end]\n",
    "        chunks.append(chunk.strip())\n",
    "        start += chunk_size - overlap\n",
    "    return chunks\n"
   ]
  },
  {
   "cell_type": "code",
   "execution_count": 9,
   "id": "cacedca4",
   "metadata": {},
   "outputs": [],
   "source": [
    "def extract_chunks_from_txt_file(txt_path, output_path):\n",
    "    \"\"\"\n",
    "    Extracts page-wise text from a TXT file (with '--- Page X ---' markers),\n",
    "    splits the content into chunks, and saves to a JSONL file.\n",
    "    \"\"\"\n",
    "    with open(txt_path, 'r', encoding='utf-8') as f:\n",
    "        raw_text = f.read()\n",
    "\n",
    "    # Split by pages using the \"--- Page X ---\" pattern\n",
    "    pages = re.split(r'--- Page \\d+ ---', raw_text)\n",
    "\n",
    "    all_chunks = []\n",
    "    for i, page_text in enumerate(pages):\n",
    "        page_text = page_text.strip()\n",
    "        if not page_text:\n",
    "            continue\n",
    "\n",
    "        chunks = split_text_into_chunks(page_text)\n",
    "        for j, chunk in enumerate(chunks):\n",
    "            all_chunks.append({\n",
    "                \"page\": i + 1,\n",
    "                \"chunk_id\": f\"page_{i+1}_chunk_{j+1}\",\n",
    "                \"text\": chunk\n",
    "            })\n",
    "\n",
    "    # Save to JSON Lines file\n",
    "    with open(output_path, 'w', encoding='utf-8') as out_file:\n",
    "        for chunk in all_chunks:\n",
    "            json.dump(chunk, out_file)\n",
    "            out_file.write('\\n')\n",
    "\n",
    "    print(f\"✅ Saved {len(all_chunks)} chunks to: {output_path}\")"
   ]
  },
  {
   "cell_type": "code",
   "execution_count": 10,
   "id": "09ebad42",
   "metadata": {
    "scrolled": true
   },
   "outputs": [
    {
     "name": "stdout",
     "output_type": "stream",
     "text": [
      "✅ Saved 1346 chunks to: zv1_chunks.jsonl\n"
     ]
    }
   ],
   "source": [
    "extract_chunks_from_txt_file(\"sony_zv1_text.txt\", \"zv1_chunks.jsonl\")"
   ]
  },
  {
   "cell_type": "markdown",
   "id": "d6a46c1c",
   "metadata": {},
   "source": [
    "## Embed the chunks and save them into a FAISS index"
   ]
  },
  {
   "cell_type": "markdown",
   "id": "729f2bb8",
   "metadata": {},
   "source": [
    "* Load your zv1_chunks.jsonl\n",
    "\n",
    "* Embed each chunk using SentenceTransformer\n",
    "\n",
    "* Save the FAISS index to zv1_faiss.index\n",
    "    * the Faiss is the library in charge of identifying the similarities between the query an\n",
    "\n",
    "* Save the metadata (chunk text + page info) to zv1_metadata.json"
   ]
  },
  {
   "cell_type": "code",
   "execution_count": 11,
   "id": "9cf3129a",
   "metadata": {},
   "outputs": [],
   "source": [
    "def load_chunks(jsonl_path):\n",
    "    chunks = []\n",
    "    with open(jsonl_path, 'r', encoding='utf-8') as f:\n",
    "        for line in f:\n",
    "            chunks.append(json.loads(line.strip()))\n",
    "    return chunks\n",
    "\n",
    "def embed_chunks(chunks, model_name=\"all-MiniLM-L6-v2\"):\n",
    "    model = SentenceTransformer(model_name)\n",
    "    texts = [chunk['text'] for chunk in chunks]\n",
    "    embeddings = model.encode(texts, show_progress_bar=True)\n",
    "    return np.array(embeddings).astype('float32')\n",
    "\n",
    "def save_faiss_index(embeddings, index_path=\"zv1_faiss.index\"):\n",
    "    dim = embeddings.shape[1]\n",
    "    index = faiss.IndexFlatL2(dim)\n",
    "    index.add(embeddings)\n",
    "    faiss.write_index(index, index_path)\n",
    "    print(f\"✅ FAISS index saved to: {index_path}\")\n",
    "    return index\n",
    "\n",
    "def save_metadata(chunks, path=\"zv1_metadata.json\"):\n",
    "    with open(path, 'w', encoding='utf-8') as f:\n",
    "        json.dump(chunks, f, indent=2)\n",
    "    print(f\"✅ Metadata saved to: {path}\")"
   ]
  },
  {
   "cell_type": "code",
   "execution_count": 12,
   "id": "13295511",
   "metadata": {
    "scrolled": true
   },
   "outputs": [
    {
     "data": {
      "application/vnd.jupyter.widget-view+json": {
       "model_id": "16227899c5a94220847c778b1ee174cf",
       "version_major": 2,
       "version_minor": 0
      },
      "text/plain": [
       "Batches:   0%|          | 0/43 [00:00<?, ?it/s]"
      ]
     },
     "metadata": {},
     "output_type": "display_data"
    },
    {
     "name": "stdout",
     "output_type": "stream",
     "text": [
      "✅ FAISS index saved to: zv1_faiss.index\n",
      "✅ Metadata saved to: zv1_metadata.json\n"
     ]
    }
   ],
   "source": [
    "chunks = load_chunks(\"zv1_chunks.jsonl\")\n",
    "embeddings = embed_chunks(chunks)\n",
    "save_faiss_index(embeddings, \"zv1_faiss.index\")\n",
    "save_metadata(chunks, \"zv1_metadata.json\")"
   ]
  },
  {
   "cell_type": "code",
   "execution_count": null,
   "id": "cc213a97",
   "metadata": {},
   "outputs": [],
   "source": []
  },
  {
   "cell_type": "code",
   "execution_count": 13,
   "id": "7c891726",
   "metadata": {},
   "outputs": [],
   "source": [
    "def load_index(index_path):\n",
    "    return faiss.read_index(index_path)\n",
    "\n",
    "def load_metadata(path):\n",
    "    with open(path, 'r', encoding='utf-8') as f:\n",
    "        return json.load(f)\n",
    "\n",
    "def search(query, index, metadata, model, top_k=3):\n",
    "    query_embedding = model.encode([query]).astype('float32')\n",
    "    distances, indices = index.search(query_embedding, top_k)\n",
    "\n",
    "    results = []\n",
    "    for i in range(top_k):\n",
    "        idx = indices[0][i]\n",
    "        results.append({\n",
    "            \"score\": float(distances[0][i]),\n",
    "            \"page\": metadata[idx][\"page\"],\n",
    "            \"chunk_id\": metadata[idx][\"chunk_id\"],\n",
    "            \"text\": metadata[idx][\"text\"]\n",
    "        })\n",
    "    return results"
   ]
  },
  {
   "cell_type": "markdown",
   "id": "61d9c449",
   "metadata": {},
   "source": [
    "## Model"
   ]
  },
  {
   "cell_type": "markdown",
   "id": "984a7a00",
   "metadata": {},
   "source": [
    "the model here is used to embed the query : Convert your question into a vector → for searching similar chunks in FAISS."
   ]
  },
  {
   "cell_type": "code",
   "execution_count": 14,
   "id": "5a74141d",
   "metadata": {},
   "outputs": [],
   "source": [
    "\n",
    "model = SentenceTransformer(\"all-MiniLM-L6-v2\")\n",
    "index = load_index(\"zv1_faiss.index\")\n",
    "metadata = load_metadata(\"zv1_metadata.json\")"
   ]
  },
  {
   "cell_type": "markdown",
   "id": "d3eed968",
   "metadata": {},
   "source": [
    "## Queries and fun"
   ]
  },
  {
   "cell_type": "markdown",
   "id": "571be488",
   "metadata": {},
   "source": [
    "Here I am asking some questions to the model and trying to see how it performs \n",
    "\n",
    "The model for embedding the query: \n",
    "* \"all-MiniLM-L6-v2\" https://huggingface.co/sentence-transformers/all-MiniLM-L6-v2\n",
    "* from Hugging Face\n",
    "\n",
    "\n"
   ]
  },
  {
   "cell_type": "markdown",
   "id": "808177fe",
   "metadata": {},
   "source": [
    "1. We're embedding the query using \"\"all-MiniLM-L6-v2\"\n",
    "2. Searching FAISS with that vector :  searching in the manual the similarity between query and the embedded manual. This is a library using a knn algorithm and returning L2 between nearest neighbour and query \n",
    "3. Printing the chunks : nearest neighbours, of the query plus the L2 scores "
   ]
  },
  {
   "cell_type": "code",
   "execution_count": 15,
   "id": "a349e981",
   "metadata": {},
   "outputs": [],
   "source": [
    "def results_query(query, index, metadata, model):\n",
    "    results = search(query, index, metadata, model)\n",
    "    scores = []\n",
    "    texts = []\n",
    "    for res in results:\n",
    "        print(f\"\\n🔎 Page {res['page']} | Score: {res['score']:.2f}\")\n",
    "        print(res[\"text\"])\n",
    "        scores.append(res['score'])\n",
    "        texts.append(res[\"text\"])\n",
    "    return None\n",
    "    "
   ]
  },
  {
   "cell_type": "code",
   "execution_count": 16,
   "id": "5503d5df",
   "metadata": {
    "scrolled": true
   },
   "outputs": [
    {
     "name": "stdout",
     "output_type": "stream",
     "text": [
      "\n",
      "🔎 Page 232 | Score: 0.76\n",
      "Help Guide\n",
      "Digital Camera\n",
      "ZV-1\n",
      "Motion Shot Video\n",
      "You can see the tracking of the subject's motion in high-speed, like a stroboscopic image.\n",
      "Hint\n",
      "You can also change the interval of the image tracking using MENU → \n",
      " (Playback) → [Motion Interval ADJ].\n",
      "Note\n",
      "You cannot save the images made with [Motion Shot Video] as a movie file.\n",
      "If the motion of the subject is too slow or the subject does not move enough, the product may fail to create the image.\n",
      "Related Topic\n",
      "Motion Interval ADJ\n",
      "5-016-934-12(1) Copyright 2020 Sony Corporation\n",
      "Press the bottom side of the control wheel during movie playback, then select \n",
      " (Motion Shot Video).\n",
      "To exit [Motion Shot Video] playback, select \n",
      ".\n",
      "If you fail to make\n",
      "\n",
      "🔎 Page 189 | Score: 0.76\n",
      "Help Guide\n",
      "Digital Camera\n",
      "ZV-1\n",
      "Shooting super-slow-motion movies (HFR Settings)\n",
      "By shooting with a higher frame rate than the recording format, you can record a smooth super-slow-motion movie.\n",
      "MODE (Mode) button → [High Frame Rate] → press the center of the control wheel.\n",
      "The shooting mode becomes set to [High Frame Rate], and the shooting setting screen appears.\n",
      "You can also set the shooting mode by selecting MENU → \n",
      " (Camera Settings1) → [Shoot Mode].\n",
      "You can select the desired exposure mode by selecting MENU → \n",
      " (Camera Settings2) → [\n",
      "Exposure\n",
      "Mode].\n",
      "1\n",
      "MENU → \n",
      " (Camera Settings2) → [\n",
      "HFR Settings] and select the desired settings for [\n",
      "Record\n",
      "Setting], [\n",
      "Frame Rate], [\n",
      "Priority Setting], a\n",
      "\n",
      "🔎 Page 417 | Score: 0.76\n",
      "Help Guide\n",
      "Digital Camera\n",
      "ZV-1\n",
      "Shooting super-slow-motion movies (HFR Settings)\n",
      "By shooting with a higher frame rate than the recording format, you can record a smooth super-slow-motion movie.\n",
      "MODE (Mode) button → [High Frame Rate] → press the center of the control wheel.\n",
      "The shooting mode becomes set to [High Frame Rate], and the shooting setting screen appears.\n",
      "You can also set the shooting mode by selecting MENU → \n",
      " (Camera Settings1) → [Shoot Mode].\n",
      "You can select the desired exposure mode by selecting MENU → \n",
      " (Camera Settings2) → [\n",
      "Exposure\n",
      "Mode].\n",
      "1\n",
      "MENU → \n",
      " (Camera Settings2) → [\n",
      "HFR Settings] and select the desired settings for [\n",
      "Record\n",
      "Setting], [\n",
      "Frame Rate], [\n",
      "Priority Setting], a\n"
     ]
    }
   ],
   "source": [
    "query = \"How do I enable slow motion video?\"\n",
    "results = search(query, index, metadata, model)\n",
    "\n",
    "for res in results:\n",
    "    print(f\"\\n🔎 Page {res['page']} | Score: {res['score']:.2f}\")\n",
    "    print(res[\"text\"])"
   ]
  },
  {
   "cell_type": "code",
   "execution_count": 17,
   "id": "1949169c",
   "metadata": {},
   "outputs": [
    {
     "name": "stdout",
     "output_type": "stream",
     "text": [
      "\n",
      "🔎 Page 207 | Score: 0.75\n",
      "you increase the setting value towards the positive side, and lighter as you\n",
      "decrease the value towards the negative side. This function is effective even if you set [Color Mode] to [Black & White].\n",
      "[R] -7 (light red) to +7 (deep red)\n",
      "[G] -7 (light green) to +7 (deep green)\n",
      "[B] -7 (light blue) to +7 (deep blue)\n",
      "[C] -7 (light cyan) to +7 (deep cyan)\n",
      "[M] -7 (light magenta) to +7 (deep magenta)\n",
      "[Y] -7 (light yellow) to +7 (deep yellow)\n",
      "Detail\n",
      "Sets items for [Detail].\n",
      "Level: Sets the [Detail] level. (-7 to +7)\n",
      "Adjust: The following parameters can be selected manually.\n",
      "Mode: Selects auto/manual setting. (Auto (automatic optimization) / Manual (The details are set manually.))\n",
      "V/H Balance: Sets th\n",
      "\n",
      "🔎 Page 394 | Score: 0.75\n",
      "you increase the setting value towards the positive side, and lighter as you\n",
      "decrease the value towards the negative side. This function is effective even if you set [Color Mode] to [Black & White].\n",
      "[R] -7 (light red) to +7 (deep red)\n",
      "[G] -7 (light green) to +7 (deep green)\n",
      "[B] -7 (light blue) to +7 (deep blue)\n",
      "[C] -7 (light cyan) to +7 (deep cyan)\n",
      "[M] -7 (light magenta) to +7 (deep magenta)\n",
      "[Y] -7 (light yellow) to +7 (deep yellow)\n",
      "Detail\n",
      "Sets items for [Detail].\n",
      "Level: Sets the [Detail] level. (-7 to +7)\n",
      "Adjust: The following parameters can be selected manually.\n",
      "Mode: Selects auto/manual setting. (Auto (automatic optimization) / Manual (The details are set manually.))\n",
      "V/H Balance: Sets th\n",
      "\n",
      "🔎 Page 160 | Score: 0.79\n",
      "s1) → [White Balance] → Select from among [Custom 1] to [Custom 3], and\n",
      "then press the right side of the control wheel.\n",
      "1\n",
      "Select \n",
      " (custom white balance set), and then press the center of the control wheel.\n",
      "2\n",
      "Hold the product so that the white area fully covers the white-balance capture frame, and then press the\n",
      "center of the control wheel.\n",
      "After the shutter sound beeps, the calibrated values (Color Temperature and Color Filter) are displayed.\n",
      "You can adjust the position of the white-balance capture frame by pressing the top/bottom/left/right side of the\n",
      "control wheel.\n",
      "After capturing a standard white color, you can display the fine adjustment screen by pressing the right side of\n",
      "the control\n"
     ]
    }
   ],
   "source": [
    "query = \"how to modify black and white balance ?\"\n",
    "results = search(query, index, metadata, model)\n",
    "\n",
    "for res in results:\n",
    "    print(f\"\\n🔎 Page {res['page']} | Score: {res['score']:.2f}\")\n",
    "    print(res[\"text\"])"
   ]
  },
  {
   "cell_type": "code",
   "execution_count": 18,
   "id": "b551a6c7",
   "metadata": {},
   "outputs": [
    {
     "name": "stdout",
     "output_type": "stream",
     "text": [
      "\n",
      "🔎 Page 207 | Score: 0.75\n",
      "you increase the setting value towards the positive side, and lighter as you\n",
      "decrease the value towards the negative side. This function is effective even if you set [Color Mode] to [Black & White].\n",
      "[R] -7 (light red) to +7 (deep red)\n",
      "[G] -7 (light green) to +7 (deep green)\n",
      "[B] -7 (light blue) to +7 (deep blue)\n",
      "[C] -7 (light cyan) to +7 (deep cyan)\n",
      "[M] -7 (light magenta) to +7 (deep magenta)\n",
      "[Y] -7 (light yellow) to +7 (deep yellow)\n",
      "Detail\n",
      "Sets items for [Detail].\n",
      "Level: Sets the [Detail] level. (-7 to +7)\n",
      "Adjust: The following parameters can be selected manually.\n",
      "Mode: Selects auto/manual setting. (Auto (automatic optimization) / Manual (The details are set manually.))\n",
      "V/H Balance: Sets th\n",
      "\n",
      "🔎 Page 394 | Score: 0.75\n",
      "you increase the setting value towards the positive side, and lighter as you\n",
      "decrease the value towards the negative side. This function is effective even if you set [Color Mode] to [Black & White].\n",
      "[R] -7 (light red) to +7 (deep red)\n",
      "[G] -7 (light green) to +7 (deep green)\n",
      "[B] -7 (light blue) to +7 (deep blue)\n",
      "[C] -7 (light cyan) to +7 (deep cyan)\n",
      "[M] -7 (light magenta) to +7 (deep magenta)\n",
      "[Y] -7 (light yellow) to +7 (deep yellow)\n",
      "Detail\n",
      "Sets items for [Detail].\n",
      "Level: Sets the [Detail] level. (-7 to +7)\n",
      "Adjust: The following parameters can be selected manually.\n",
      "Mode: Selects auto/manual setting. (Auto (automatic optimization) / Manual (The details are set manually.))\n",
      "V/H Balance: Sets th\n",
      "\n",
      "🔎 Page 160 | Score: 0.79\n",
      "s1) → [White Balance] → Select from among [Custom 1] to [Custom 3], and\n",
      "then press the right side of the control wheel.\n",
      "1\n",
      "Select \n",
      " (custom white balance set), and then press the center of the control wheel.\n",
      "2\n",
      "Hold the product so that the white area fully covers the white-balance capture frame, and then press the\n",
      "center of the control wheel.\n",
      "After the shutter sound beeps, the calibrated values (Color Temperature and Color Filter) are displayed.\n",
      "You can adjust the position of the white-balance capture frame by pressing the top/bottom/left/right side of the\n",
      "control wheel.\n",
      "After capturing a standard white color, you can display the fine adjustment screen by pressing the right side of\n",
      "the control\n"
     ]
    }
   ],
   "source": [
    "query = \"how to modify black and white balance ?\"\n",
    "results_query(query, index, metadata, model)"
   ]
  },
  {
   "cell_type": "code",
   "execution_count": 19,
   "id": "cfef2c7c",
   "metadata": {},
   "outputs": [
    {
     "name": "stdout",
     "output_type": "stream",
     "text": [
      "\n",
      "🔎 Page 433 | Score: 0.93\n",
      "Help Guide\n",
      "Digital Camera\n",
      "ZV-1\n",
      "SteadyShot (movie)\n",
      "Sets [\n",
      "SteadyShot] effect when shooting movies. If you set the [\n",
      "SteadyShot] effect to [Off] when using a tripod\n",
      "(sold separately), a natural image is produced.\n",
      "Menu item details\n",
      "Active:\n",
      "Provides a more powerful SteadyShot effect.\n",
      "Standard:\n",
      "Reduces camera shake under stable movie shooting conditions.\n",
      "Off:\n",
      "Does not use [\n",
      "SteadyShot].\n",
      "Note\n",
      "If you change the setting for [\n",
      "SteadyShot], the angle of view will change.\n",
      "Related Topic\n",
      "SteadyShot (still image)\n",
      "5-016-934-12(1) Copyright 2020 Sony Corporation\n",
      "MENU → \n",
      " (Camera Settings2) → [\n",
      "SteadyShot] → desired setting.\n",
      "1\n",
      "432\n",
      "\n",
      "🔎 Page 214 | Score: 0.93\n",
      "Help Guide\n",
      "Digital Camera\n",
      "ZV-1\n",
      "SteadyShot (movie)\n",
      "Sets [\n",
      "SteadyShot] effect when shooting movies. If you set the [\n",
      "SteadyShot] effect to [Off] when using a tripod\n",
      "(sold separately), a natural image is produced.\n",
      "Menu item details\n",
      "Active:\n",
      "Provides a more powerful SteadyShot effect.\n",
      "Standard:\n",
      "Reduces camera shake under stable movie shooting conditions.\n",
      "Off:\n",
      "Does not use [\n",
      "SteadyShot].\n",
      "Note\n",
      "If you change the setting for [\n",
      "SteadyShot], the angle of view will change.\n",
      "Related Topic\n",
      "SteadyShot (still image)\n",
      "5-016-934-12(1) Copyright 2020 Sony Corporation\n",
      "MENU → \n",
      " (Camera Settings2) → [\n",
      "SteadyShot] → desired setting.\n",
      "1\n",
      "213\n",
      "\n",
      "🔎 Page 168 | Score: 0.93\n",
      "in bright sunlight, the beach, or snowy\n",
      "mountains.\n",
      "When you want to increase the speed of continuous shooting.\n",
      "In the following situations, set the [\n",
      "Shutter Type] to [Auto] or [Mechanical Shutter].\n",
      "When you want to use the flash with a shutter speed faster than 1/100 second.\n",
      "When you are concerned about distortion in the image due to the movement of the subject or the movement of the camera.\n",
      "Note\n",
      "When shooting with the electronic shutter, there may be distortion in the image due to the movement of the subject or the camera\n",
      "itself.\n",
      "During shooting with the electronic shutter, band-like light-and-dark shading may appear when shooting under flickering light such\n",
      "as fluorescent light or instan\n"
     ]
    }
   ],
   "source": [
    "query = \"how to avoid rolling shutter effect ?\"\n",
    "results_query(query, index, metadata, model)"
   ]
  },
  {
   "cell_type": "code",
   "execution_count": 20,
   "id": "8214a517",
   "metadata": {},
   "outputs": [
    {
     "name": "stdout",
     "output_type": "stream",
     "text": [
      "\n",
      "🔎 Page 122 | Score: 1.10\n",
      "Help Guide\n",
      "Digital Camera\n",
      "ZV-1\n",
      "Bulb shooting\n",
      "You can shoot a trailing image of the movement of a subject with long exposure.\n",
      "Bulb shooting is suitable for shooting trails from stars or fireworks, etc.\n",
      "Hint\n",
      "When shooting fireworks, etc., focus at infinity in manual focus mode.\n",
      "In order to perform bulb shooting without causing the image quality to deteriorate, we recommend that you start shooting while\n",
      "the camera is cool.\n",
      "During bulb shooting, images tend to blur. It is recommended that you use a tripod, a RMT-P1BT Bluetooth remote commander\n",
      "(sold separately) or a remote commander equipped with a lock function (sold separately). When using the RMT-P1BT Bluetooth\n",
      "remote commander, you can start\n",
      "\n",
      "🔎 Page 127 | Score: 1.11\n",
      "in sharp focus with vivid colors. \n",
      "Sunset:\n",
      "Shoots the red of the sunset beautifully. \n",
      "MODE (Mode) button → [Scene Selection] → press the center of the control wheel.\n",
      "You can also set the shooting mode by selecting MENU → \n",
      " (Camera Settings1) → [Shoot Mode].\n",
      "1\n",
      "Turn the control wheel to select the desired setting.\n",
      "2\n",
      "126\n",
      "\n",
      "🔎 Page 347 | Score: 1.11\n",
      "in sharp focus with vivid colors. \n",
      "Sunset:\n",
      "Shoots the red of the sunset beautifully. \n",
      "MODE (Mode) button → [Scene Selection] → press the center of the control wheel.\n",
      "You can also set the shooting mode by selecting MENU → \n",
      " (Camera Settings1) → [Shoot Mode].\n",
      "1\n",
      "Turn the control wheel to select the desired setting.\n",
      "2\n",
      "346\n"
     ]
    }
   ],
   "source": [
    "query = \"How do i shoot in low light conditions ? \"\n",
    "results_query(query, index, metadata, model)"
   ]
  },
  {
   "cell_type": "markdown",
   "id": "89d1e9a8",
   "metadata": {},
   "source": [
    "## Add an LLM to sum up, explain the essence of the response"
   ]
  },
  {
   "cell_type": "markdown",
   "id": "3c757dc8",
   "metadata": {},
   "source": [
    "We then use the mistral model from Ollama to use the text retrieved from the query and turn it into a summarize to the point \"explanation\"\n"
   ]
  },
  {
   "cell_type": "code",
   "execution_count": 21,
   "id": "42e31d97",
   "metadata": {},
   "outputs": [],
   "source": [
    "# give the context to the mistral ai using the prompt\n",
    "# the prompt can be modified to suit the person using the camera (an expert or a kid for instance)\n",
    "\n",
    "def build_prompt(question, retrieved_chunks):\n",
    "    context = \"\\n\\n\".join([\n",
    "        f\"[Page {chunk['page']}] {chunk['text']}\" for chunk in retrieved_chunks\n",
    "    ])\n",
    "\n",
    "    prompt = f\"\"\"You are a helpful assistant answering based on the Sony ZV-1 camera manual.\n",
    "\n",
    "Use the following manual content to answer the user's question as clearly and accurately as possible. Add \n",
    "the section from the manual (like page) from which the information comes from in between brackets.  \n",
    "\n",
    "Manual Content:\n",
    "{context}\n",
    "\n",
    "\n",
    "Question: {question}\n",
    "Answer:\"\"\"\n",
    "    \n",
    "\n",
    "\n",
    "    return prompt"
   ]
  },
  {
   "cell_type": "code",
   "execution_count": 22,
   "id": "a0d6bf27",
   "metadata": {},
   "outputs": [],
   "source": [
    "# do the api query, using the prompt and the model\n",
    "\n",
    "def query_ollama(prompt, model=\"mistral\"):\n",
    "    url = \"http://localhost:11434/api/generate\"\n",
    "    payload = {\n",
    "        \"model\": model,\n",
    "        \"prompt\": prompt,\n",
    "        \"stream\": False\n",
    "    }\n",
    "    try:\n",
    "        response = requests.post(url, json=payload)\n",
    "        response.raise_for_status()\n",
    "        return response.json()[\"response\"]\n",
    "    except Exception as e:\n",
    "        return f\"Error querying Ollama: {e}\""
   ]
  },
  {
   "cell_type": "code",
   "execution_count": 23,
   "id": "efa90e88",
   "metadata": {},
   "outputs": [],
   "source": [
    "# main function that call the different functions and answer accordingly \n",
    "\n",
    "def ask(question, index, metadata, embedding_model, llm_model_name=\"mistral\", top_k=3):\n",
    "    \n",
    "    # Step 1: Embed query\n",
    "    query_embedding = embedding_model.encode([question]).astype(\"float32\")\n",
    "\n",
    "    # Step 2: Search FAISS\n",
    "    distances, indices = index.search(query_embedding, top_k)\n",
    "    retrieved_chunks = [metadata[idx] for idx in indices[0]]\n",
    "\n",
    "    # Step 3: Build prompt\n",
    "    prompt = build_prompt(question, retrieved_chunks)\n",
    "\n",
    "    # Step 4: Get answer from LLM\n",
    "    answer = query_ollama(prompt, model=llm_model_name)\n",
    "\n",
    "    # Step 5: Print everything\n",
    "    print(\"\\n🔍 Retrieved chunks:\")\n",
    "    for i, chunk in enumerate(retrieved_chunks):\n",
    "        print(f\"\\n[Page {chunk['page']}] (score: {distances[0][i]:.2f})\")\n",
    "        print(chunk['text'])\n",
    "\n",
    "    print(\"\\n🤖 LLM Answer:\")\n",
    "    print(answer)\n",
    "    return answer"
   ]
  },
  {
   "cell_type": "code",
   "execution_count": 24,
   "id": "d69da26a",
   "metadata": {},
   "outputs": [
    {
     "name": "stdout",
     "output_type": "stream",
     "text": [
      "\n",
      "🔍 Retrieved chunks:\n",
      "\n",
      "[Page 119] (score: 0.96)\n",
      "Help Guide\n",
      "Digital Camera\n",
      "ZV-1\n",
      "Aperture Priority\n",
      "You can shoot by adjusting the aperture and changing the range in focus, or by defocusing the background.\n",
      "Note\n",
      "The brightness of the image on the screen may differ from the actual image being shot.\n",
      "5-016-934-12(1) Copyright 2020 Sony Corporation\n",
      "MODE (Mode) button → [Aperture Priority] → press the center of the control wheel.\n",
      "You can also set the shooting mode by selecting MENU → \n",
      " (Camera Settings1) → [Shoot Mode].\n",
      "1\n",
      "Select the desired value by turning the control wheel.\n",
      "Smaller F-value: The subject is in focus, but objects in front of and beyond the subject are blurred.  \n",
      "Larger F-value: The subject and its foreground and background are all\n",
      "\n",
      "[Page 82] (score: 0.99)\n",
      "o be shown magnified by selecting MENU → \n",
      " (Camera Settings1) →\n",
      "[Focus Magnif. Time].\n",
      "3\n",
      "Press the shutter button fully down to shoot the image.\n",
      "4\n",
      "81\n",
      "\n",
      "[Page 397] (score: 0.99)\n",
      "o be shown magnified by selecting MENU → \n",
      " (Camera Settings1) →\n",
      "[Focus Magnif. Time].\n",
      "3\n",
      "Press the shutter button fully down to shoot the image.\n",
      "4\n",
      "396\n",
      "\n",
      "🤖 LLM Answer:\n",
      " To achieve a blurred background in your photos, you should use Aperture Priority mode on your Sony ZV-1 camera. Here's how you can do it based on the provided manual content:\n",
      "\n",
      "1. Press the MODE (Mode) button to cycle through the shooting modes until you reach the Aperture Priority mode [Page 119, Help Guide, Digital Camera ZV-1].\n",
      "\n",
      "2. Once in Aperture Priority mode, press the center of the control wheel to select it [Page 119, Help Guide, Digital Camera ZV-1].\n",
      "\n",
      "3. Alternatively, you can also set the shooting mode by navigating to MENU -> (Camera Settings1) -> [Shoot Mode], and then selecting Aperture Priority using the control wheel [Page 119, Help Guide, Digital Camera ZV-1].\n",
      "\n",
      "4. Now, to blur the background, you need a smaller F-value. Turn the control wheel to decrease the F-value until you reach a smaller number (e.g., f/2.8 or lower). Smaller F-values will result in a shallow depth of field, which will make the background blurry [Page 119, Help Guide, Digital Camera ZV-1].\n",
      "\n",
      "5. Lastly, frame your shot, press the shutter button fully down to capture your image [Page 397, Help Guide, Digital Camera ZV-1]. If you'd like to check the focus more closely before taking the shot, you can set the Focus Magnification Time in the camera settings menu as well [Page 82, Help Guide, Digital Camera ZV-1].\n"
     ]
    },
    {
     "data": {
      "text/plain": [
       "\" To achieve a blurred background in your photos, you should use Aperture Priority mode on your Sony ZV-1 camera. Here's how you can do it based on the provided manual content:\\n\\n1. Press the MODE (Mode) button to cycle through the shooting modes until you reach the Aperture Priority mode [Page 119, Help Guide, Digital Camera ZV-1].\\n\\n2. Once in Aperture Priority mode, press the center of the control wheel to select it [Page 119, Help Guide, Digital Camera ZV-1].\\n\\n3. Alternatively, you can also set the shooting mode by navigating to MENU -> (Camera Settings1) -> [Shoot Mode], and then selecting Aperture Priority using the control wheel [Page 119, Help Guide, Digital Camera ZV-1].\\n\\n4. Now, to blur the background, you need a smaller F-value. Turn the control wheel to decrease the F-value until you reach a smaller number (e.g., f/2.8 or lower). Smaller F-values will result in a shallow depth of field, which will make the background blurry [Page 119, Help Guide, Digital Camera ZV-1].\\n\\n5. Lastly, frame your shot, press the shutter button fully down to capture your image [Page 397, Help Guide, Digital Camera ZV-1]. If you'd like to check the focus more closely before taking the shot, you can set the Focus Magnification Time in the camera settings menu as well [Page 82, Help Guide, Digital Camera ZV-1].\""
      ]
     },
     "execution_count": 24,
     "metadata": {},
     "output_type": "execute_result"
    }
   ],
   "source": [
    "query = \"how to have a blurred background ?\"\n",
    "ask(query, index, metadata, model)"
   ]
  },
  {
   "cell_type": "code",
   "execution_count": 25,
   "id": "98a64a7c",
   "metadata": {},
   "outputs": [
    {
     "name": "stdout",
     "output_type": "stream",
     "text": [
      "\n",
      "🔍 Retrieved chunks:\n",
      "\n",
      "[Page 133] (score: 0.77)\n",
      "Copyright 2020 Sony Corporation\n",
      "MODE (Mode) button → [Movie] → press the center of the control wheel.\n",
      "You can also set the shooting mode by selecting MENU → \n",
      " (Camera Settings1) → [Shoot Mode].\n",
      "1\n",
      "MENU→ \n",
      " (Camera Settings2) → [\n",
      "Exposure Mode] → desired setting.\n",
      "2\n",
      "Press the MOVIE (movie) button to start recording.\n",
      "  \n",
      "Press the MOVIE button again to stop recording.\n",
      "3\n",
      "132\n",
      "\n",
      "[Page 410] (score: 0.78)\n",
      "Copyright 2020 Sony Corporation\n",
      "MODE (Mode) button → [Movie] → press the center of the control wheel.\n",
      "You can also set the shooting mode by selecting MENU → \n",
      " (Camera Settings1) → [Shoot Mode].\n",
      "1\n",
      "MENU→ \n",
      " (Camera Settings2) → [\n",
      "Exposure Mode] → desired setting.\n",
      "2\n",
      "Press the MOVIE (movie) button to start recording.\n",
      "  \n",
      "Press the MOVIE button again to stop recording.\n",
      "3\n",
      "409\n",
      "\n",
      "[Page 134] (score: 0.80)\n",
      "lligent Auto] → press the center of the control wheel.\n",
      "You can also set the shooting mode by selecting MENU → \n",
      " (Camera Settings1)→ [Shoot Mode].\n",
      "1\n",
      "Point the camera at the subject.\n",
      "When the camera recognized the scene, the icon for the recognized scene appears on the screen.\n",
      "2\n",
      "Press the MOVIE (Movie) button to start recording.\n",
      "Press the MOVIE button again to stop recording.\n",
      "3\n",
      "133\n",
      "\n",
      "🤖 LLM Answer:\n",
      "1. To set the shooting mode to Manual, follow these steps:\n",
      "   - Press the MENU button on your Sony ZV-1 camera.\n",
      "   - Navigate to (Camera Settings1) and select [Shoot Mode].\n",
      "   - Choose [Manual] from the available options.\n",
      "\n",
      "2. To start recording a video in Manual mode, follow these steps:\n",
      "   - Press the MOVIE button located on your camera.\n",
      "   - To stop recording, press the MOVIE button again.\n",
      "\n",
      "Please note that these instructions are derived from pages 133 and 409 of your Sony ZV-1 camera manual. If you have any further questions or need more assistance, feel free to ask!\n"
     ]
    },
    {
     "data": {
      "text/plain": [
       "'1. To set the shooting mode to Manual, follow these steps:\\n   - Press the MENU button on your Sony ZV-1 camera.\\n   - Navigate to (Camera Settings1) and select [Shoot Mode].\\n   - Choose [Manual] from the available options.\\n\\n2. To start recording a video in Manual mode, follow these steps:\\n   - Press the MOVIE button located on your camera.\\n   - To stop recording, press the MOVIE button again.\\n\\nPlease note that these instructions are derived from pages 133 and 409 of your Sony ZV-1 camera manual. If you have any further questions or need more assistance, feel free to ask!'"
      ]
     },
     "execution_count": 25,
     "metadata": {},
     "output_type": "execute_result"
    }
   ],
   "source": [
    "query = \"how to have shoot a video in manual mode?\"\n",
    "ask(query, index, metadata, model)"
   ]
  },
  {
   "cell_type": "code",
   "execution_count": 26,
   "id": "83532441",
   "metadata": {},
   "outputs": [
    {
     "name": "stdout",
     "output_type": "stream",
     "text": [
      "\n",
      "🔍 Retrieved chunks:\n",
      "\n",
      "[Page 190] (score: 0.90)\n",
      "button ([Start Trigger]), or for a set amount\n",
      "of time until you press the MOVIE button ([End Trigger]/[End Trigger Half]).\n",
      "Frame rate\n",
      "In super-slow-motion movie shooting, the camera shoots at a faster shutter speed than the number of shooting frames\n",
      "per second. For example, when [\n",
      "Frame Rate] is set to [960fps], the shutter speed per frame will be faster than\n",
      "approx. 1/1000 second in order to shoot 960 frames per second. To maintain this shutter speed, sufficient ambient light is\n",
      "necessary during shooting. If the ambient light is insufficient, the ISO sensitivity will become higher, resulting in more\n",
      "noise.\n",
      "Shortest shooting distance\n",
      "The image becomes out of focus when the subject is too cl\n",
      "\n",
      "[Page 418] (score: 0.90)\n",
      "button ([Start Trigger]), or for a set amount\n",
      "of time until you press the MOVIE button ([End Trigger]/[End Trigger Half]).\n",
      "Frame rate\n",
      "In super-slow-motion movie shooting, the camera shoots at a faster shutter speed than the number of shooting frames\n",
      "per second. For example, when [\n",
      "Frame Rate] is set to [960fps], the shutter speed per frame will be faster than\n",
      "approx. 1/1000 second in order to shoot 960 frames per second. To maintain this shutter speed, sufficient ambient light is\n",
      "necessary during shooting. If the ambient light is insufficient, the ISO sensitivity will become higher, resulting in more\n",
      "noise.\n",
      "Shortest shooting distance\n",
      "The image becomes out of focus when the subject is too cl\n",
      "\n",
      "[Page 411] (score: 0.92)\n",
      "utter speed and the aperture value) manually.\n",
      "Related Topic\n",
      "Shooting super-slow-motion movies (HFR Settings)\n",
      "5-016-934-12(1) Copyright 2020 Sony Corporation\n",
      "MODE (Mode) button → [High Frame Rate] → press the center of the control wheel.\n",
      "You can also set the shooting mode by selecting MENU → \n",
      " (Camera Settings1) → [Shoot Mode].\n",
      "1\n",
      "MENU → \n",
      " (Camera Settings2) → [\n",
      "Exposure Mode] → desired setting.\n",
      "2\n",
      "410\n",
      "\n",
      "🤖 LLM Answer:\n",
      " To shoot in slow motion (super-slow-motion movie shooting), follow these steps:\n",
      "\n",
      "1. First, set the frame rate by using the MODE (Mode) button or navigating through the menu system:\n",
      "   - Directly via MODE button: Press and hold the MODE button, then turn the control wheel to select [High Frame Rate].\n",
      "   - Via Menu System:\n",
      "      1. Navigate to MENU → (Camera Settings1) → [Shoot Mode], then select [High Frame Rate].\n",
      "      2. Alternatively, you can go to MENU → (Camera Settings2) → [Exposure Mode] and set it according to your preference. Keep in mind that for slow motion shooting, it's recommended to use aperture priority mode (A).\n",
      "\n",
      "2. Now, the camera frame rate is set. Since super-slow-motion movie shooting requires sufficient ambient light, make sure there is enough light during shooting to maintain a fast shutter speed. If the ambient light is insufficient, the ISO sensitivity will become higher, resulting in more noise.\n",
      "\n",
      "3. To start and stop recording, use the Start Trigger (button) or for a set amount of time until you press the MOVIE button (End Trigger/End Trigger Half).\n"
     ]
    },
    {
     "data": {
      "text/plain": [
       "\" To shoot in slow motion (super-slow-motion movie shooting), follow these steps:\\n\\n1. First, set the frame rate by using the MODE (Mode) button or navigating through the menu system:\\n   - Directly via MODE button: Press and hold the MODE button, then turn the control wheel to select [High Frame Rate].\\n   - Via Menu System:\\n      1. Navigate to MENU → (Camera Settings1) → [Shoot Mode], then select [High Frame Rate].\\n      2. Alternatively, you can go to MENU → (Camera Settings2) → [Exposure Mode] and set it according to your preference. Keep in mind that for slow motion shooting, it's recommended to use aperture priority mode (A).\\n\\n2. Now, the camera frame rate is set. Since super-slow-motion movie shooting requires sufficient ambient light, make sure there is enough light during shooting to maintain a fast shutter speed. If the ambient light is insufficient, the ISO sensitivity will become higher, resulting in more noise.\\n\\n3. To start and stop recording, use the Start Trigger (button) or for a set amount of time until you press the MOVIE button (End Trigger/End Trigger Half).\""
      ]
     },
     "execution_count": 26,
     "metadata": {},
     "output_type": "execute_result"
    }
   ],
   "source": [
    "query = \"how to shoot in slow motion ?\"\n",
    "ask(query, index, metadata, model)"
   ]
  },
  {
   "cell_type": "code",
   "execution_count": 27,
   "id": "9e57fbae",
   "metadata": {},
   "outputs": [
    {
     "name": "stdout",
     "output_type": "stream",
     "text": [
      "\n",
      "🔍 Retrieved chunks:\n",
      "\n",
      "[Page 149] (score: 1.06)\n",
      "n the contrast of the subject. Select the optimization level from 1.0EV (weak) to\n",
      "6.0EV (strong).  \n",
      "For example, if you set the exposure value to 2.0 EV, three images will be composed with the following exposure levels:\n",
      "-1.0 EV, correct exposure and +1.0 EV.\n",
      "Hint\n",
      "The shutter is released three times for one shot. Be careful about the following:\n",
      "Use this function when the subject is motionless or does not flash light.\n",
      "Do not change the composition during shooting.\n",
      "Note\n",
      "This function is not available when the [\n",
      "File Format] is [RAW] or [RAW & JPEG].\n",
      "[Auto HDR] is not available in the following shooting modes:\n",
      "[Intelligent Auto]\n",
      "[Sweep Panorama]\n",
      "[Scene Selection]\n",
      "[Auto HDR] is not available in t\n",
      "\n",
      "[Page 387] (score: 1.06)\n",
      "n the contrast of the subject. Select the optimization level from 1.0EV (weak) to\n",
      "6.0EV (strong).  \n",
      "For example, if you set the exposure value to 2.0 EV, three images will be composed with the following exposure levels:\n",
      "-1.0 EV, correct exposure and +1.0 EV.\n",
      "Hint\n",
      "The shutter is released three times for one shot. Be careful about the following:\n",
      "Use this function when the subject is motionless or does not flash light.\n",
      "Do not change the composition during shooting.\n",
      "Note\n",
      "This function is not available when the [\n",
      "File Format] is [RAW] or [RAW & JPEG].\n",
      "[Auto HDR] is not available in the following shooting modes:\n",
      "[Intelligent Auto]\n",
      "[Sweep Panorama]\n",
      "[Scene Selection]\n",
      "[Auto HDR] is not available in t\n",
      "\n",
      "[Page 81] (score: 1.11)\n",
      "l wheel.\n",
      "4\n",
      "Press the shutter button fully down to shoot an image.\n",
      "5\n",
      "80\n",
      "\n",
      "🤖 LLM Answer:\n",
      " To perform a long exposure, you need to adjust the camera settings manually as the Sony ZV-1 does not have a dedicated mode for this purpose. Here's how you can achieve it:\n",
      "\n",
      "1. Set your camera to Manual (M) mode [Page 81]. This will allow you to control the shutter speed and aperture settings.\n",
      "\n",
      "2. Rotate the control wheel to adjust the shutter speed value [Page 81]. To achieve a long exposure, set a slow shutter speed, for example, 1 second or more. The slower the shutter speed, the longer the exposure duration will be.\n",
      "\n",
      "3. To avoid camera shake and ensure sharp images during long exposures, use a tripod or other stable surface to hold your camera [Page 80].\n",
      "\n",
      "4. Press the shutter button fully down to take the image [Page 81].\n",
      "\n",
      "Please note that due to the small sensor size of the Sony ZV-1, achieving very long exposure times (e.g., several seconds) may result in noticeable noise and decreased sharpness. In such cases, you can use a neutral density filter to reduce the amount of light entering the lens and extend your long exposure possibilities.\n",
      "\n",
      "Additionally, be aware that this function is not available when using RAW or RAW & JPEG file formats [Page 149 and Page 387]. Furthermore, Auto HDR is not available in certain shooting modes such as Intelligent Auto, Sweep Panorama, Scene Selection [Page 149, Page 387].\n"
     ]
    },
    {
     "data": {
      "text/plain": [
       "\" To perform a long exposure, you need to adjust the camera settings manually as the Sony ZV-1 does not have a dedicated mode for this purpose. Here's how you can achieve it:\\n\\n1. Set your camera to Manual (M) mode [Page 81]. This will allow you to control the shutter speed and aperture settings.\\n\\n2. Rotate the control wheel to adjust the shutter speed value [Page 81]. To achieve a long exposure, set a slow shutter speed, for example, 1 second or more. The slower the shutter speed, the longer the exposure duration will be.\\n\\n3. To avoid camera shake and ensure sharp images during long exposures, use a tripod or other stable surface to hold your camera [Page 80].\\n\\n4. Press the shutter button fully down to take the image [Page 81].\\n\\nPlease note that due to the small sensor size of the Sony ZV-1, achieving very long exposure times (e.g., several seconds) may result in noticeable noise and decreased sharpness. In such cases, you can use a neutral density filter to reduce the amount of light entering the lens and extend your long exposure possibilities.\\n\\nAdditionally, be aware that this function is not available when using RAW or RAW & JPEG file formats [Page 149 and Page 387]. Furthermore, Auto HDR is not available in certain shooting modes such as Intelligent Auto, Sweep Panorama, Scene Selection [Page 149, Page 387].\""
      ]
     },
     "execution_count": 27,
     "metadata": {},
     "output_type": "execute_result"
    }
   ],
   "source": [
    "query = \"how do i do a long exposure ?\"\n",
    "ask(query, index, metadata, model)"
   ]
  },
  {
   "cell_type": "code",
   "execution_count": null,
   "id": "48783b2d",
   "metadata": {},
   "outputs": [],
   "source": []
  }
 ],
 "metadata": {
  "kernelspec": {
   "display_name": "Python (zv1-bot)",
   "language": "python",
   "name": "zv1-bot"
  },
  "language_info": {
   "codemirror_mode": {
    "name": "ipython",
    "version": 3
   },
   "file_extension": ".py",
   "mimetype": "text/x-python",
   "name": "python",
   "nbconvert_exporter": "python",
   "pygments_lexer": "ipython3",
   "version": "3.10.6"
  },
  "toc": {
   "base_numbering": 1,
   "nav_menu": {},
   "number_sections": true,
   "sideBar": true,
   "skip_h1_title": false,
   "title_cell": "Table of Contents",
   "title_sidebar": "Contents",
   "toc_cell": false,
   "toc_position": {},
   "toc_section_display": true,
   "toc_window_display": false
  }
 },
 "nbformat": 4,
 "nbformat_minor": 5
}
